{
  "nbformat": 4,
  "nbformat_minor": 0,
  "metadata": {
    "colab": {
      "name": "A2",
      "provenance": [],
      "collapsed_sections": [],
      "authorship_tag": "ABX9TyNh9krj482sHqOqs4Pi1sHa",
      "include_colab_link": true
    },
    "kernelspec": {
      "name": "python3",
      "display_name": "Python 3"
    }
  },
  "cells": [
    {
      "cell_type": "markdown",
      "metadata": {
        "id": "view-in-github",
        "colab_type": "text"
      },
      "source": [
        "<a href=\"https://colab.research.google.com/github/Harshpatel44/ML-A2/blob/master/A2.ipynb\" target=\"_parent\"><img src=\"https://colab.research.google.com/assets/colab-badge.svg\" alt=\"Open In Colab\"/></a>"
      ]
    },
    {
      "cell_type": "code",
      "metadata": {
        "id": "J__pLXgteFEb",
        "colab_type": "code",
        "colab": {}
      },
      "source": [
        "import matplotlib.pyplot as plt\n",
        "import numpy as np"
      ],
      "execution_count": 0,
      "outputs": []
    },
    {
      "cell_type": "code",
      "metadata": {
        "id": "bRZXCh6Shbzl",
        "colab_type": "code",
        "outputId": "31bf4d2e-7007-4f20-e586-18fe21f4c2fb",
        "colab": {
          "base_uri": "https://localhost:8080/",
          "height": 287
        }
      },
      "source": [
        "import matplotlib.pyplot as plt\n",
        "\n",
        "#data 1\n",
        "mean1 = [-2,-2]\n",
        "cov1= [[3.5,0],[0,3.5]]\n",
        "x1, y1 = np.random.multivariate_normal(mean1, cov1, 200).T\n",
        "\n",
        "#data 2\n",
        "mean2 = [2,2]\n",
        "cov2= [[3.5,0.0],[0.0,3.5]]\n",
        "x2, y2 = np.random.multivariate_normal(mean2, cov2, 200).T\n",
        "\n",
        "plt.plot(x1, y1, 'ro',color='r')\n",
        "plt.plot(x2,y2,'ro',color='b')\n",
        "plt.axis([-6,6,-6,6])\n",
        "plt.show()\n",
        "print(str(i))"
      ],
      "execution_count": 0,
      "outputs": [
        {
          "output_type": "display_data",
          "data": {
            "image/png": "[encoded data removed]",
            "text/plain": [
              "<Figure size 432x288 with 1 Axes>"
            ]
          },
          "metadata": {
            "tags": []
          }
        },
        {
          "output_type": "stream",
          "text": [
            "3.8999999999999995\n"
          ],
          "name": "stdout"
        }
      ]
    },
    {
      "cell_type": "markdown",
      "metadata": {
        "id": "d2Gk08jRoHBE",
        "colab_type": "text"
      },
      "source": [
        "Taking covariance as [0.4,0][0,0.4] for noise 0\n",
        "<br>\n",
        "0.4 to 3.5 is the noise range"
      ]
    },
    {
      "cell_type": "code",
      "metadata": {
        "id": "k4JBj6EYodMI",
        "colab_type": "code",
        "colab": {}
      },
      "source": [
        "import matplotlib.pyplot as plt\n",
        "\n",
        "for i in np.arange(0.5,4,0.1):\n",
        "  #data 1\n",
        "  mean1 = [-2,-2]\n",
        "  cov1= [[i,0],[0,i]]\n",
        "  x1, y1 = np.random.multivariate_normal(mean1, cov1, 20).T\n",
        "\n",
        "  #data 2\n",
        "  mean2 = [2,2]\n",
        "  cov2= [[i,0.0],[0.0,i]]\n",
        "  x2, y2 = np.random.multivariate_normal(mean2, cov2, 20).T\n",
        "\n",
        "  plt.plot(x1, y1, 'ro',color='r')\n",
        "  plt.plot(x2,y2,'ro',color='b')\n",
        "  plt.axis([-6,6,-6,6])\n",
        "  plt.show()\n",
        "  print(str(i))"
      ],
      "execution_count": 0,
      "outputs": []
    },
    {
      "cell_type": "code",
      "metadata": {
        "id": "n8MK428Deg86",
        "colab_type": "code",
        "colab": {}
      },
      "source": [
        ""
      ],
      "execution_count": 0,
      "outputs": []
    }
  ]
}