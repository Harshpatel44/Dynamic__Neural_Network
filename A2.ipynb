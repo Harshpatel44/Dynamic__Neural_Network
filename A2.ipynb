{
  "nbformat": 4,
  "nbformat_minor": 0,
  "metadata": {
    "colab": {
      "name": "A2",
      "provenance": [],
      "collapsed_sections": [],
      "authorship_tag": "ABX9TyPtvXrqg8wovCCDjZQNO34P",
      "include_colab_link": true
    },
    "kernelspec": {
      "name": "python3",
      "display_name": "Python 3"
    }
  },
  "cells": [
    {
      "cell_type": "markdown",
      "metadata": {
        "id": "view-in-github",
        "colab_type": "text"
      },
      "source": [
        "<a href=\"https://colab.research.google.com/github/Harshpatel44/ML-A2/blob/master/A2.ipynb\" target=\"_parent\"><img src=\"https://colab.research.google.com/assets/colab-badge.svg\" alt=\"Open In Colab\"/></a>"
      ]
    },
    {
      "cell_type": "code",
      "metadata": {
        "id": "J__pLXgteFEb",
        "colab_type": "code",
        "colab": {}
      },
      "source": [
        "import matplotlib.pyplot as plt\n",
        "import numpy as np"
      ],
      "execution_count": 0,
      "outputs": []
    },
    {
      "cell_type": "code",
      "metadata": {
        "id": "bRZXCh6Shbzl",
        "colab_type": "code",
        "outputId": "19955d8c-4a92-41e6-bf82-3d719fe523ba",
        "colab": {
          "base_uri": "https://localhost:8080/",
          "height": 286
        }
      },
      "source": [
        "import matplotlib.pyplot as plt\n",
        "\n",
        "#data 1\n",
        "mean1 = [-2,-2]\n",
        "cov1= [[3.5,0],[0,3.5]]\n",
        "x1, y1 = np.random.multivariate_normal(mean1, cov1, 200).T\n",
        "\n",
        "#data 2\n",
        "mean2 = [2,2]\n",
        "cov2= [[3.5,0.0],[0.0,3.5]]\n",
        "x2, y2 = np.random.multivariate_normal(mean2, cov2, 200).T\n",
        "\n",
        "plt.plot(x1, y1, 'ro',color='r')\n",
        "plt.plot(x2,y2,'ro',color='b')\n",
        "plt.axis([-6,6,-6,6])\n",
        "plt.show()\n",
        "print(str(i))"
      ],
      "execution_count": 0,
      "outputs": [
        {
          "output_type": "display_data",
          "data": {
            "image/png": "[encoded data removed]",
            "text/plain": [
              "<Figure size 432x288 with 1 Axes>"
            ]
          },
          "metadata": {
            "tags": []
          }
        },
        {
          "output_type": "stream",
          "text": [
            "3.8999999999999995\n"
          ],
          "name": "stdout"
        }
      ]
    },
    {
      "cell_type": "markdown",
      "metadata": {
        "id": "d2Gk08jRoHBE",
        "colab_type": "text"
      },
      "source": [
        "Taking covariance as [0.4,0][0,0.4] for noise 0\n",
        "<br>\n",
        "0.4 to 3.5 is the noise range"
      ]
    },
    {
      "cell_type": "code",
      "metadata": {
        "id": "k4JBj6EYodMI",
        "colab_type": "code",
        "colab": {}
      },
      "source": [
        "import matplotlib.pyplot as plt\n",
        "\n",
        "for i in np.arange(0.5,4,0.1):\n",
        "  #data 1\n",
        "  mean1 = [-2,-2]\n",
        "  cov1= [[i,0],[0,i]]\n",
        "  x1, y1 = np.random.multivariate_normal(mean1, cov1, 20).T\n",
        "\n",
        "  #data 2\n",
        "  mean2 = [2,2]\n",
        "  cov2= [[i,0.0],[0.0,i]]\n",
        "  x2, y2 = np.random.multivariate_normal(mean2, cov2, 20).T\n",
        "\n",
        "  plt.plot(x1, y1, 'ro',color='r')\n",
        "  plt.plot(x2,y2,'ro',color='b')\n",
        "  plt.axis([-6,6,-6,6])\n",
        "  plt.show()\n",
        "  print(str(i))"
      ],
      "execution_count": 0,
      "outputs": []
    },
    {
      "cell_type": "code",
      "metadata": {
        "id": "DfIIp_TQ79aM",
        "colab_type": "code",
        "outputId": "c54ae4cd-add3-4da6-aa5c-65265da91e01",
        "colab": {
          "base_uri": "https://localhost:8080/",
          "height": 378
        }
      },
      "source": [
        "from matplotlib.pyplot import figure\n",
        "\n",
        "def circle(radius,items):\n",
        "\n",
        "    #creating random values for x\n",
        "    #x=(2*radius+1)*np.random.uniform(items) - (radius+1)\n",
        "    x = np.random.uniform(-radius,radius+0.1,items)\n",
        "    #input()\n",
        "    #applying circle equation to find y\n",
        "    y=np.sqrt(np.abs(np.power(radius,2)-np.power(x,2) ))\n",
        "    \n",
        "    # print(x)\n",
        "    # print(y)\n",
        "    \n",
        "    \n",
        "    #appending x value again for correspondance with negative values of y. Hence appending negative values of y to y array.\n",
        "    x=np.append(x,x)\n",
        "    y=np.append(y,-y)\n",
        "\n",
        "    # figure(figsize=(10,10))\n",
        "    # plt.plot(x,y,'ro')    \n",
        "    # plt.show()\n",
        "\n",
        "    return x,y\n",
        "\n",
        "x1,y1=circle(5,20)\n",
        "x2,y2=circle(4,20)\n",
        "#print(x1,x2)\n",
        "plot_x= (np.maximum(x1,x2) - np.minimum(x1,x2)) * np.random.random_sample(40) - np.maximum(x1,x2)\n",
        "plot_y= (np.maximum(y1,y2) - np.minimum(y1,y2)) * np.random.random_sample(40) - np.maximum(y1,y2)\n",
        "\n",
        "\n",
        "plot_x = np.random.uniform(np.minimum(x1,x2),np.maximum(x1,x2),1)\n",
        "plot_y = np.random.uniform(np.minimum(y1,y2),np.maximum(y1,y2),1)\n",
        "#print(plot_x)\n",
        "\n",
        "#mean1 = [(x1+x2)/2,(y1+y2)/2]\n",
        "#cov1= [[i,0],[0,i]]\n",
        "#x1, y1 = np.random.multivariate_normal(mean1, cov1, 20).T\n",
        "\n",
        "  \n",
        "\n",
        "#plotting\n",
        "\n",
        "figure(figsize=(6,6))\n",
        "plt.plot(plot_x,plot_y,'ro')\n",
        "plt.plot(x1,y1,'ro',color='blue')\n",
        "plt.plot(x2,y2,'ro',color='black')\n",
        "plt.axis([-6,6,-6,6])\n",
        "plt.show()\n",
        "\n"
      ],
      "execution_count": 395,
      "outputs": [
        {
          "output_type": "display_data",
          "data": {
            "image/png": "[encoded data removed]",
            "text/plain": [
              "<Figure size 432x432 with 1 Axes>"
            ]
          },
          "metadata": {
            "tags": []
          }
        }
      ]
    },
    {
      "cell_type": "code",
      "metadata": {
        "id": "M6vgTl0BbCQT",
        "colab_type": "code",
        "colab": {}
      },
      "source": [
        ""
      ],
      "execution_count": 0,
      "outputs": []
    },
    {
      "cell_type": "code",
      "metadata": {
        "id": "uEz9Drt0-ILf",
        "colab_type": "code",
        "outputId": "9b7b5d79-19e7-43c0-e552-7a2e34bb524d",
        "colab": {
          "base_uri": "https://localhost:8080/",
          "height": 180
        }
      },
      "source": [
        "x=[1,2,3]\n",
        "np.exp(x,2)"
      ],
      "execution_count": 0,
      "outputs": [
        {
          "output_type": "error",
          "ename": "TypeError",
          "evalue": "ignored",
          "traceback": [
            "\u001b[0;31m---------------------------------------------------------------------------\u001b[0m",
            "\u001b[0;31mTypeError\u001b[0m                                 Traceback (most recent call last)",
            "\u001b[0;32m<ipython-input-370-337f278a70b4>\u001b[0m in \u001b[0;36m<module>\u001b[0;34m()\u001b[0m\n\u001b[1;32m      1\u001b[0m \u001b[0mx\u001b[0m\u001b[0;34m=\u001b[0m\u001b[0;34m[\u001b[0m\u001b[0;36m1\u001b[0m\u001b[0;34m,\u001b[0m\u001b[0;36m2\u001b[0m\u001b[0;34m,\u001b[0m\u001b[0;36m3\u001b[0m\u001b[0;34m]\u001b[0m\u001b[0;34m\u001b[0m\u001b[0;34m\u001b[0m\u001b[0m\n\u001b[0;32m----> 2\u001b[0;31m \u001b[0mnp\u001b[0m\u001b[0;34m.\u001b[0m\u001b[0mexp\u001b[0m\u001b[0;34m(\u001b[0m\u001b[0mx\u001b[0m\u001b[0;34m,\u001b[0m\u001b[0;36m2\u001b[0m\u001b[0;34m)\u001b[0m\u001b[0;34m\u001b[0m\u001b[0;34m\u001b[0m\u001b[0m\n\u001b[0m",
            "\u001b[0;31mTypeError\u001b[0m: return arrays must be of ArrayType"
          ]
        }
      ]
    },
    {
      "cell_type": "code",
      "metadata": {
        "id": "s_CXpE9lBfsc",
        "colab_type": "code",
        "outputId": "35303dce-afb4-4e6c-fe6c-eccf14bb06fc",
        "colab": {
          "base_uri": "https://localhost:8080/",
          "height": 34
        }
      },
      "source": [
        "x1=[3,4,5]\n",
        "x2=[2,6,3]\n",
        "np.minimum(x1,x2)\n"
      ],
      "execution_count": 0,
      "outputs": [
        {
          "output_type": "execute_result",
          "data": {
            "text/plain": [
              "array([2, 4, 3])"
            ]
          },
          "metadata": {
            "tags": []
          },
          "execution_count": 196
        }
      ]
    },
    {
      "cell_type": "code",
      "metadata": {
        "id": "IjSYOSIkL34_",
        "colab_type": "code",
        "colab": {}
      },
      "source": [
        ""
      ],
      "execution_count": 0,
      "outputs": []
    }
  ]
}